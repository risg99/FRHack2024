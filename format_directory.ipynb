{
 "cells": [
  {
   "cell_type": "markdown",
   "metadata": {},
   "source": [
    "## Formatting the file directory"
   ]
  },
  {
   "cell_type": "code",
   "execution_count": 3,
   "metadata": {},
   "outputs": [],
   "source": [
    "import os\n",
    "import shutil"
   ]
  },
  {
   "cell_type": "code",
   "execution_count": 4,
   "metadata": {},
   "outputs": [],
   "source": [
    "def file_formatter():\n",
    "    # Define the source directory\n",
    "    source_directory = '.'\n",
    "\n",
    "    # Define the destination directories\n",
    "    files_directory = 'files'\n",
    "    rural_directory = 'files/rural'\n",
    "    urban_directory = 'files/urban'\n",
    "    periurban_directory = 'files/periurban'\n",
    "    departments_directory = 'files/departments'\n",
    "    cities_directory = 'files/cities'\n",
    "\n",
    "    # Create destination directories if they don't exist\n",
    "    os.makedirs(rural_directory, exist_ok=True)\n",
    "    os.makedirs(urban_directory, exist_ok=True)\n",
    "    os.makedirs(periurban_directory, exist_ok=True)\n",
    "    os.makedirs(departments_directory, exist_ok=True)\n",
    "    os.makedirs(cities_directory, exist_ok=True)\n",
    "\n",
    "    # Iterate over all files in the source directory\n",
    "    for filename in os.listdir(source_directory):\n",
    "        # Check if the file name contains 'Zones RURALES'\n",
    "        if 'Zones RURALES' in filename:\n",
    "            # Move the file to the rural directory and rename it\n",
    "            shutil.move(os.path.join(source_directory, filename), os.path.join(rural_directory, 'rural' + os.path.splitext(filename)[1]))\n",
    "        \n",
    "        # Check if the file name contains 'Zones URBAINES'\n",
    "        elif 'Zones URBAINES' in filename:\n",
    "            # Move the file to the urban directory and rename it\n",
    "            shutil.move(os.path.join(source_directory, filename), os.path.join(urban_directory, 'urban' + os.path.splitext(filename)[1]))\n",
    "        \n",
    "        # Check if the file name contains 'Zones PERIURBAINES'\n",
    "        elif 'Zones PERI URBAINES' in filename:\n",
    "            # Move the file to the periurban directory and rename it\n",
    "            shutil.move(os.path.join(source_directory, filename), os.path.join(periurban_directory, 'periurban' + os.path.splitext(filename)[1]))\n",
    "        \n",
    "        # Check if the file name contains 'Depts'\n",
    "        elif 'Depts' in filename:\n",
    "            # Move the file to the departments directory and rename it\n",
    "            shutil.move(os.path.join(source_directory, filename), os.path.join(departments_directory, 'all_depts' + os.path.splitext(filename)[1]))\n",
    "        \n",
    "        # Check if the file name contains different city names\n",
    "        elif ('.shp' in filename) or ('.cpg' in filename) or ('.dbf' in filename) or ('.shx' in filename) or ('.prj' in filename):\n",
    "            # Move the file to the cities directory and rename it\n",
    "            shutil.move(os.path.join(source_directory, filename), os.path.join(cities_directory, 'cities' + os.path.splitext(filename)[1]))\n",
    "\n",
    "        # Check if the file name contains 'Mesures' \n",
    "        elif 'Mesures' in filename:\n",
    "            # Move the file to the files directory and rename it\n",
    "            shutil.move(os.path.join(source_directory, filename), os.path.join(files_directory, 'measurements' + os.path.splitext(filename)[1]))\n",
    "\n",
    "        elif 'Communes' in filename:\n",
    "            # Move the other files like 'commune', without renaming as it is\n",
    "            shutil.move(os.path.join(source_directory, filename), files_directory)"
   ]
  },
  {
   "cell_type": "code",
   "execution_count": 5,
   "metadata": {},
   "outputs": [
    {
     "name": "stdout",
     "output_type": "stream",
     "text": [
      "Directory has been formatted successfully!\n"
     ]
    }
   ],
   "source": [
    "file_formatter()\n",
    "print('Directory has been formatted successfully!')"
   ]
  }
 ],
 "metadata": {
  "kernelspec": {
   "display_name": "Python 3",
   "language": "python",
   "name": "python3"
  },
  "language_info": {
   "codemirror_mode": {
    "name": "ipython",
    "version": 3
   },
   "file_extension": ".py",
   "mimetype": "text/x-python",
   "name": "python",
   "nbconvert_exporter": "python",
   "pygments_lexer": "ipython3",
   "version": "3.9.6"
  }
 },
 "nbformat": 4,
 "nbformat_minor": 2
}
